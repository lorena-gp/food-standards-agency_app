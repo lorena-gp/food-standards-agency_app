{
 "cells": [
  {
   "cell_type": "code",
   "execution_count": 8,
   "metadata": {},
   "outputs": [],
   "source": [
    "import pandas as pd\n",
    "import numpy as np\n",
    "import seaborn as sns\n",
    "import matplotlib.pyplot as plt\n",
    "import statsmodels.stats.proportion as smp\n",
    "from ipywidgets import interact\n",
    "import warnings\n",
    "warnings.filterwarnings('ignore')"
   ]
  },
  {
   "cell_type": "code",
   "execution_count": 9,
   "metadata": {},
   "outputs": [],
   "source": [
    "# Custom function for creating grouped barplots of the variables of interest and save the output\n",
    "\n",
    "def custom_barplots(dataset, # dataframe\n",
    "                    groupping, # string\n",
    "                    variables_of_interest, # list of string(s)\n",
    "                    barwidth=0.5, myspacingy=0.09, myspacingx=8, myfontsize=17):\n",
    "    \n",
    "    for variable in variables_of_interest:\n",
    "\n",
    "        temp = dataset.copy()\n",
    "\n",
    "        # Group according to the features of interest and calculate the % of answer types for the main target feature\n",
    "        temp = temp.groupby([groupping, variable])[variable].agg(['count'])\n",
    "        temp['total'] = temp.groupby(groupping)['count'].transform('sum')\n",
    "        lower, upper = smp.proportion_confint (temp['count'], temp['total'], alpha=0.05, method='normal')\n",
    "        temp['CI_prop_upper'] = upper\n",
    "        temp['CI_prop_lower'] = lower\n",
    "        temp[variable + ' (%)'] = temp['count'] / temp['total'] * 100\n",
    "        temp['CI_perc_upper'] = temp['CI_prop_upper'] * 100\n",
    "        temp['CI_perc_lower'] = temp['CI_prop_lower'] * 100\n",
    "        temp['abs_err'] = temp[variable + ' (%)'] - temp['CI_perc_lower']\n",
    "        temp.reset_index(inplace=True) # To 'undo' the grouping\n",
    "        temp = temp.round(1)\n",
    "        temp\n",
    "        \n",
    "        # Recode the answers of those variables we want to use to stratify the population\n",
    "        answers_to_rename = [variable]\n",
    "        temp[answers_to_rename] = temp[answers_to_rename].replace(answers_dict)\n",
    "\n",
    "        abs_err = temp.pivot(index=variable, columns=groupping, values='abs_err')\n",
    "\n",
    "        g = temp.pivot(index=variable, columns=groupping, values=variable+' (%)')\\\n",
    "        .plot(kind='barh', xerr=abs_err, width=barwidth, figsize=(3,10), colormap='coolwarm')\n",
    "        for item in ([g.title, g.xaxis.label, g.yaxis.label] + g.get_xticklabels() + g.get_yticklabels()):\n",
    "            item.set_fontsize(20)\n",
    "        plt.title(questions_dict.get(variable), x =0,  fontsize = 20)\n",
    "        plt.xlabel(variable + ' (%)')\n",
    "        plt.ylabel('')\n",
    "        plt.xlim(0, max(temp[variable +' (%)'] + 15))\n",
    "        handles, labels = g.get_legend_handles_labels()\n",
    "        g.legend(reversed(handles), reversed(labels), loc='center left', bbox_to_anchor=(1.5, 0.75), fontsize=16)\n",
    "        g.spines['top'].set_visible(False)\n",
    "        g.spines['right'].set_visible(False)\n",
    "        g.spines['left'].set_visible(False)\n",
    "\n",
    "        # To plot the % number\n",
    "        for p in g.patches:\n",
    "            width, height = p.get_width(), p.get_height()\n",
    "            x, y = p.get_xy() \n",
    "            g.annotate('{:}%'.format(width), (x + width + myspacingx, y + myspacingy), fontsize = myfontsize)\n",
    "            # play with fontsize, depending on graph"
   ]
  },
  {
   "cell_type": "code",
   "execution_count": 10,
   "metadata": {},
   "outputs": [],
   "source": [
    "# Dictionary to recode values (as on survey dataset)\n",
    "  \n",
    "# Create a dictionary of question names\n",
    "questions_dict_path = 'https://raw.githubusercontent.com/lorena-gp/food-standards-agency_app/master/survey_guide_variables.csv'\n",
    "questions_dict = pd.read_csv(questions_dict_path)\n",
    "questions_dict['Label'] = questions_dict['Label'].str.replace(r'\\(D\\)','')\n",
    "questions_dict = pd.Series(questions_dict.Label.values, index=questions_dict.Variable).to_dict()\n",
    "\n",
    "# Create a nested dictionary of answer names\n",
    "answers_dict_path = 'https://raw.githubusercontent.com/lorena-gp/food-standards-agency_app/master/survey_guide_values.csv'\n",
    "answers_dict = pd.read_csv(answers_dict_path)\n",
    "answers_dict['Label'] = (answers_dict['Label']\n",
    "                         .replace({'Wave 1':2010, 'Wave 2':2012, 'Wave 3':2014, 'Wave 4':2016, 'Wave 5':2018})\n",
    "                         .replace({'Married/Civil Partnership/Living with Partner':'Married/Partnership'})\n",
    "                         .replace({'Single/Widowed/Divorced/Separated/Other':'Single/Other'}))\n",
    "answers_dict = answers_dict.fillna(method='ffill')\n",
    "answers_dict = answers_dict.groupby('Variable')[['Vlue', 'Label']].apply(lambda g: dict(g.values)).to_dict()\n",
    "answers_dict['wimd_2014_quintile'] = {1: 1, 2: 2, # 1 is most deprived\n",
    "                                      3: 3, 4: 4, 5: 5, # 5 is least deprived\n",
    "                                      -8: \"Don't know\", -1:'Not applicable'}\n",
    "answers_dict['hhdinc'] = {1: '£10,399 or less', 2: '£10,400 - £25,999', 3: '£26,000 - £51,999', 4:'£52,000 or more',\n",
    "                          -9:'Refused', -8: \"Don't know\", -1:'Not applicable'}"
   ]
  },
  {
   "cell_type": "code",
   "execution_count": 11,
   "metadata": {},
   "outputs": [],
   "source": [
    "# Load Food and You survey dataset\n",
    "survey_path = 'https://raw.githubusercontent.com/lorena-gp/food-standards-agency_app/master/survey.csv'\n",
    "survey_full_dataset = pd.read_csv(survey_path)\n",
    "survey_full_dataset = pd.DataFrame(survey_full_dataset)\n",
    "\n",
    "# Encode 'Not applicable', 'Refused' and 'Don't know' as NaN\n",
    "survey_full_dataset = survey_full_dataset.replace([-9, -8, -1, 98], np.nan)\n",
    "cols_5_NaN = ['q4_1_4', 'q4_1_5a', 'Q4_1_5_comb', 'q4_1_6', 'q4_1_7', 'q4_1_8a', 'q4_1_8b', 'sanspray', 'q4_1_11',\n",
    "              'q4_1_12', 'q4_1_13', 'q4_1_14', 'q4_1_15', 'q4_1_16', 'q4_1_17', 'q4_1_18', 'q4_1_19']\n",
    "survey_full_dataset[cols_5_NaN] = survey_full_dataset[cols_5_NaN].replace([5], np.nan)\n",
    "\n",
    "survey_full_dataset['age_dv_grouped'] = (survey_full_dataset['age_dv']\n",
    "                                         .replace({1:'A', 2:'B', 3:'B', 4:'B', 5:'C', 6:'C', 7:'C'})\n",
    "                                         .replace({'A':'16-24', 'B':'25-54', 'C':'55+'}))"
   ]
  },
  {
   "cell_type": "code",
   "execution_count": 12,
   "metadata": {},
   "outputs": [],
   "source": [
    "# Define demographic variables of interest\n",
    "demographic_variables = ['age_dv', 'marstat2', 'religion_dv', 'RespSex', 'wimd_2014_quintile', 'workstat2',\n",
    "                         'Q6_1', 'age_dv_grouped', 'UrbanRuralInd', 'bhhsize2', 'hhdinc',\n",
    "                         'below6', 'below16']"
   ]
  },
  {
   "cell_type": "code",
   "execution_count": 13,
   "metadata": {},
   "outputs": [],
   "source": [
    "# Define questions of interest\n",
    "\n",
    "# General knowledge based\n",
    "questions_of_interest = ['bpoison', 'Q4_1_5_comb', 'eatoutev', 'q4_1_6', 'Q4_1_5_comb', 'Q4_19b', 'fdsecst',\n",
    "                         'sanspray', 'Q4_26b', 'q4_1_8a', 'q4_1_11', 'dq4_1bc', 'Q4_143', 'safemeat10',\n",
    "                         'Q4_2610', 'q4_27_4_slice', 'Q4_27c', 'Q4_28b8', 'q2_14s10a_dv', 'q2_14su8b_dv',\n",
    "                         'q2_14su7a_dv', 'q2_14s13_dv', 'EatOut1', 'EatOut2', 'EatOut3']\n",
    "\n",
    "# Correlation analysis by James\n",
    "questions_high_correlation_1 = ['clinaller', 'FdAuthAct_MC9', 'chemknow3', 'Q3_32', 'Q4_1b1', 'safeegg7', 'chemknow2',\n",
    "                              'q2_14s15_dv', 'EatOutInfDV_Wb', 'chemiop3', 'Q4_1b4',  'Q4_24, provfd1', 'Q3_1312',\n",
    "                              'Q3_135', 'chemknow4', 'q2_14s10_dv', 'Q4_266', 'q2_14su8a_dv', 'Q11_8bDV17',\n",
    "                              'chemiop2', 'Q11_8bDV2', 'FdAuthAct_MC2', 'Q3_137', 'Q4_114', 'Worried', 'Q11_8bDV12',\n",
    "                              'q4_1_15', 'chemiop1', 'q4_277dv', 'fdreac_dv','chemknow1', 'FdAuthAct_MC6',\n",
    "                              'Q2_38DV5', 'Q4_115', 'reacno', 'heardorgc9', 'Q4_113', 'Q11_8bDV10', 'safefish5',\n",
    "                              'EatOutInfDV_Ad', 'safeegg14', 'Q2_19', 'Q2_35DV_Pr', 'Q4_2611', 'q4_276dv', 'Q4_2610',\n",
    "                              'q4_277_dv', 'Q4_143', 'Q11_8bDV6', 'heardorgc6', 'q4_276_dv', 'q2_14su7_dv', 'Q4_151',\n",
    "                              'safecheese5', 'safecheese2', 'Q4_227']\n",
    "\n",
    "# Correlation analysis by Lorena\n",
    "questions_high_correlation_2 = ['q4_276dv', 'q4_276_dv', 'fdreac_dv', 'reacno', 'q2_14s10_dv', 'FdAuthAct_MC9',\n",
    "                                'Q4_28b5', 'q4_277dv', 'q2_14su5_dv', 'Q11_8bDV12', 'Q2_35DV_Rv', 'heardorgc1',\n",
    "                                'heardorgc3', 'Q4_1b3', 'heardorgc5', 'EatOutInfDV_Wb', 'hhdinc', 'EatOut1',\n",
    "                                'heardorgc4','q4_278dv', 'q4_1_15', 'HeardFSA', 'heardorgc6']\n",
    "\n",
    "questions_of_interest = questions_of_interest + questions_high_correlation_1 + questions_high_correlation_2\n",
    "\n",
    "questions_of_interest = list(set(questions_of_interest)) # Get unique questions"
   ]
  },
  {
   "cell_type": "code",
   "execution_count": 14,
   "metadata": {},
   "outputs": [],
   "source": [
    "# To consider only the survey answers from wave 4 and 5 only:\n",
    "waves = [4,5]\n",
    "survey_subpopulation = survey_full_dataset.loc[survey_full_dataset['surveyyear'].isin(waves)]\n",
    "survey_subpopulation[demographic_variables] = survey_subpopulation[demographic_variables].replace(answers_dict)"
   ]
  },
  {
   "cell_type": "markdown",
   "metadata": {},
   "source": [
    "# Interactive dashboard "
   ]
  },
  {
   "cell_type": "code",
   "execution_count": null,
   "metadata": {},
   "outputs": [],
   "source": [
    "## To give access to voila dashboard remotely using github and binder:\n",
    "\n",
    "# Set up a public github repo with all data files needed (as csv), jupyter notebook with widgets (in which all csv files are read using the raw URLs from github) and a requirements.txt (listing  all the modules needed to run the notebook).\n",
    "# Use binder (https://mybinder.org) and specify the path of the jupypter notebook (using voila/render), indicate it is a URL path. After this, a long URL adress is generated within the mybinder set up box: copy this and save, as this is the safest way to share the app afterwards.\n",
    "# The app will open in its own URL adress, which can also be shared, but tends to expired withing a few hours.\n",
    "# In general, the loading of the app with either of the two URLs above can fail at times. Trying a different browser is recomended. If possible persist, process to generate the app again using https://mybinder.org, as this is a fairly easy and quick set up anyway.\n",
    "\n",
    "## Dashboard can be executed within the jupyter notebook\n",
    "# It appears below the cell with the execution code\n",
    "\n",
    "## To show this as an independent (local) dashboard with Voila \n",
    "# (https://github.com/voila-dashboards/voila):\n",
    "# Install in terminal by: conda install -c conda-forge voila\n",
    "# Start Voilà locally (cd in directory with this notebook) by running: voila Food-and-You-survey_risks.ipynb\n",
    "\n",
    "\n",
    "## To give access to voila dashboard remotely using ngrok:\n",
    "\n",
    "# See https://voila.readthedocs.io/en/stable/deploy.html#sharing-voila-applications-with-ngrok)\n",
    "# Install ngrok: https://ngrok.com/download, unzip file and, if using macOS, move executable file to /usr/local/bin\n",
    "# Start Voilà locally (cd in directory with this notebook) by running: voila Food-and-You-survey_risks.ipynb\n",
    "# In a new terminal window, start ngrok by running: ngrok http 8866 (check local host number actually used by the dashboard of interest, as, if running voila multiple times, this number will change)\n",
    "# Copy the link from the ngrok terminal window (link looks like https://8bb6fded.ngrok.io) and use or send link.\n",
    "\n",
    "### Notes\n",
    "\n",
    "# Website will take some time to load, as the jupyter noteook is running in the background.\n",
    "# When using the ngrok link, the requests will be forwared to your local instance of Voilà.\n",
    "# Census data is too heavy and cannot be ploted as a voila dashboard"
   ]
  },
  {
   "cell_type": "code",
   "execution_count": 18,
   "metadata": {},
   "outputs": [],
   "source": [
    "# Set up for the interactive dashboard inside notebook:\n",
    "# Plot food risks associated to desired subpopulation groups for specified relevant questions:\n",
    "\n",
    "country_dict = answers_dict['country_dv']\n",
    "country_list = list(survey_subpopulation.country_dv.unique())\n",
    "country_list[:] = [country_dict.get(e,'') for e in country_list]\n",
    "country_dict_inv = {v: k for k, v in country_dict.items()}\n",
    "\n",
    "region_dict = answers_dict['region_dv']\n",
    "region_list = list(survey_subpopulation.region_dv.unique())\n",
    "region_list[:] = [region_dict.get(e,'') for e in region_list]\n",
    "region_dict_inv = {v: k for k, v in region_dict.items()}\n",
    "\n",
    "questions_of_interest_names = questions_of_interest.copy()\n",
    "questions_of_interest_names[:] = [questions_dict.get(e,'') for e in questions_of_interest_names]\n",
    "questions_dict_inv = {v: k for k, v in questions_dict.items()}\n",
    "\n",
    "\n",
    "\n",
    "demographics_list = ['Not applicable', 'Age (in detail)', 'Age', 'Gender', 'Marital status', 'Working status',\n",
    "                     'Religion', 'Health', 'Urban-Rural classification', 'Household size',\n",
    "                     'Household income', 'Children under 6 in household', 'Children under 16 in household']\n",
    "\n",
    "demographic_dict = {'Not applicable':'dummy', 'Age (in detail)':'age_dv', 'Age':'age_dv_grouped', 'Gender':'RespSex',\n",
    "                    'Marital status':'marstat2', 'Working status':'workstat2', 'Religion':'religion_dv',\n",
    "                    'Health':'Q6_1', 'Urban-Rural classification':'UrbanRuralInd',\n",
    "                    'Household size':'bhhsize2', 'Household income':'hhdinc',\n",
    "                    'Children under 6 in household':'below6', 'Children under 16 in household':'below16'}"
   ]
  },
  {
   "cell_type": "markdown",
   "metadata": {},
   "source": [
    "## You can explore the results of the \"Food and you\" survey (2016, 2018), for the whole UK, below:"
   ]
  },
  {
   "cell_type": "code",
   "execution_count": 19,
   "metadata": {},
   "outputs": [
    {
     "data": {
      "application/vnd.jupyter.widget-view+json": {
       "model_id": "e6671a102d5a49f9b5ea931df922ac53",
       "version_major": 2,
       "version_minor": 0
      },
      "text/plain": [
       "interactive(children=(Dropdown(description='question', options=('Have you had food poisoning in the last year?…"
      ]
     },
     "metadata": {},
     "output_type": "display_data"
    }
   ],
   "source": [
    "@interact\n",
    "def plot(question=questions_of_interest_names,\n",
    "         demographics1=demographics_list,\n",
    "         demographics2=demographics_list,\n",
    "         demographics3=demographics_list):\n",
    "    \n",
    "    survey_subpopulation['dummy']=''\n",
    "    survey_subpopulation['combined_demographics']=(survey_subpopulation[demographic_dict.get(demographics1)]+' '+\n",
    "                                                   survey_subpopulation[demographic_dict.get(demographics2)]+' '+\n",
    "                                                   survey_subpopulation[demographic_dict.get(demographics3)])        \n",
    "    custom_barplots(survey_subpopulation,\n",
    "                    'combined_demographics',\n",
    "                    [questions_dict_inv.get(question)],\n",
    "                    myspacingy=0.03, myspacingx=15, barwidth=0.9)"
   ]
  },
  {
   "cell_type": "markdown",
   "metadata": {},
   "source": [
    "## You can explore the results of the \"Food and you\" survey (2016, 2018), for each UK country, below:"
   ]
  },
  {
   "cell_type": "code",
   "execution_count": 20,
   "metadata": {},
   "outputs": [
    {
     "data": {
      "application/vnd.jupyter.widget-view+json": {
       "model_id": "6f5d44a3fdc1426285e422c5830ec7e8",
       "version_major": 2,
       "version_minor": 0
      },
      "text/plain": [
       "interactive(children=(Dropdown(description='country', options=('England', 'Wales', 'Northern Ireland'), value=…"
      ]
     },
     "metadata": {},
     "output_type": "display_data"
    }
   ],
   "source": [
    "@interact\n",
    "def plot(country=country_list,\n",
    "         question=questions_of_interest_names,\n",
    "         demographics1=demographics_list,\n",
    "         demographics2=demographics_list,\n",
    "         demographics3=demographics_list):\n",
    "    \n",
    "    survey_subpopulation['dummy']=''\n",
    "    survey_subpopulation['combined_demographics']=(survey_subpopulation[demographic_dict.get(demographics1)]+' '+\n",
    "                                                   survey_subpopulation[demographic_dict.get(demographics2)]+' '+\n",
    "                                                   survey_subpopulation[demographic_dict.get(demographics3)])        \n",
    "    custom_barplots(survey_subpopulation[survey_subpopulation.country_dv.eq(country_dict_inv.get(country))],\n",
    "                    'combined_demographics',\n",
    "                    [questions_dict_inv.get(question)],\n",
    "                    myspacingy=0.03, myspacingx=15, barwidth=0.9)"
   ]
  },
  {
   "cell_type": "markdown",
   "metadata": {},
   "source": [
    "## You can explore the results of the \"Food and you\" survey (2016, 2018), for each UK region, below:"
   ]
  },
  {
   "cell_type": "code",
   "execution_count": 22,
   "metadata": {},
   "outputs": [
    {
     "data": {
      "application/vnd.jupyter.widget-view+json": {
       "model_id": "d7a6ea3d2e3d4ffe9648eab4972a28e8",
       "version_major": 2,
       "version_minor": 0
      },
      "text/plain": [
       "interactive(children=(Dropdown(description='region', options=('South West', 'South East', 'Wales', 'Yorkshire …"
      ]
     },
     "metadata": {},
     "output_type": "display_data"
    }
   ],
   "source": [
    "@interact\n",
    "def plot(region=region_list,\n",
    "         question=questions_of_interest_names,\n",
    "         demographics1=demographics_list,\n",
    "         demographics2=demographics_list,\n",
    "         demographics3=demographics_list):\n",
    "    \n",
    "    survey_subpopulation['dummy']=''\n",
    "    survey_subpopulation['combined_demographics']=(survey_subpopulation[demographic_dict.get(demographics1)]+' '+\n",
    "                                                   survey_subpopulation[demographic_dict.get(demographics2)]+' '+\n",
    "                                                   survey_subpopulation[demographic_dict.get(demographics3)])        \n",
    "    custom_barplots(survey_subpopulation[survey_subpopulation.region_dv.eq(region_dict_inv.get(region))],\n",
    "                    'combined_demographics',\n",
    "                    [questions_dict_inv.get(question)],\n",
    "                    myspacingy=0.03, myspacingx=15, barwidth=0.9)"
   ]
  },
  {
   "cell_type": "code",
   "execution_count": null,
   "metadata": {},
   "outputs": [],
   "source": []
  }
 ],
 "metadata": {
  "kernelspec": {
   "display_name": "Python 3",
   "language": "python",
   "name": "python3"
  },
  "language_info": {
   "codemirror_mode": {
    "name": "ipython",
    "version": 3
   },
   "file_extension": ".py",
   "mimetype": "text/x-python",
   "name": "python",
   "nbconvert_exporter": "python",
   "pygments_lexer": "ipython3",
   "version": "3.7.7"
  }
 },
 "nbformat": 4,
 "nbformat_minor": 4
}

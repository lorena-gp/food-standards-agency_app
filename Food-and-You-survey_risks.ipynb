{
 "cells": [
  {
   "cell_type": "code",
   "execution_count": 13,
   "metadata": {},
   "outputs": [],
   "source": [
    "import pandas as pd\n",
    "import numpy as np\n",
    "import seaborn as sns\n",
    "import matplotlib.pyplot as plt\n",
    "import statsmodels.stats.proportion as smp\n",
    "from ipywidgets import interact\n",
    "import warnings\n",
    "warnings.filterwarnings('ignore')"
   ]
  },
  {
   "cell_type": "code",
   "execution_count": 2,
   "metadata": {},
   "outputs": [],
   "source": [
    "# Custom function for creating grouped barplots of the variables of interest and save the output\n",
    "\n",
    "def custom_barplots(dataset, # dataframe\n",
    "                    groupping, # string\n",
    "                    variables_of_interest, # list of string(s)\n",
    "                    barwidth=0.5, myspacingy=0.09, myspacingx=8, myfontsize=17,\n",
    "                    high_risk_option = 'no'):\n",
    "\n",
    "    for variable in variables_of_interest:\n",
    "\n",
    "        temp = dataset.copy()\n",
    "\n",
    "        # Group according to the features of interest and calculate the % of answer types for the main target feature\n",
    "        temp = temp.groupby([groupping, variable])[variable].agg(['count'])\n",
    "        temp['total'] = temp.groupby(groupping)['count'].transform('sum')\n",
    "        lower, upper = smp.proportion_confint (temp['count'], temp['total'], alpha=0.05, method='normal')\n",
    "        temp['CI_prop_upper'] = upper\n",
    "        temp['CI_prop_lower'] = lower\n",
    "        temp[variable + ' (%)'] = temp['count'] / temp['total'] * 100\n",
    "        temp['CI_perc_upper'] = temp['CI_prop_upper'] * 100\n",
    "        temp['CI_perc_lower'] = temp['CI_prop_lower'] * 100\n",
    "        temp['abs_err'] = temp[variable + ' (%)'] - temp['CI_perc_lower']\n",
    "        temp.reset_index(inplace=True) # To 'undo' the grouping\n",
    "        temp = temp.round(1)\n",
    "        temp\n",
    "        \n",
    "        high_risk_option_chosen = high_risk_option\n",
    "        if high_risk_option_chosen == 'yes':\n",
    "            high_risk_answer = question_risk_aswers.loc[row, 'high_risk_answer']\n",
    "            temp = temp[temp[variable] == high_risk_answer]\n",
    "            row += 1\n",
    "    \n",
    "        # Recode the answers of those variables we want to use to stratify the population\n",
    "        answers_to_rename = [variable]\n",
    "        temp[answers_to_rename] = temp[answers_to_rename].replace(answers_dict)\n",
    "\n",
    "        abs_err = temp.pivot(index=variable, columns=groupping, values='abs_err')\n",
    "\n",
    "        g = temp.pivot(index=variable, columns=groupping, values=variable+' (%)')\\\n",
    "        .plot(kind='barh', xerr=abs_err, width=barwidth, figsize=(3,10))\n",
    "        for item in ([g.title, g.xaxis.label, g.yaxis.label] + g.get_xticklabels() + g.get_yticklabels()):\n",
    "            item.set_fontsize(20)\n",
    "        plt.title(questions_dict.get(variable), x =0,  fontsize = 20)\n",
    "        plt.xlabel(variable + ' (%)')\n",
    "        plt.ylabel('')\n",
    "        plt.xlim(0, max(temp[variable +' (%)'] + 15))\n",
    "        g.legend(loc='center left', bbox_to_anchor=(1.5, 0.75), fontsize=16)\n",
    "        g.spines['top'].set_visible(False)\n",
    "        g.spines['right'].set_visible(False)\n",
    "        g.spines['left'].set_visible(False)\n",
    "\n",
    "        # To plot the % number\n",
    "        for p in g.patches:\n",
    "            width, height = p.get_width(), p.get_height()\n",
    "            x, y = p.get_xy() \n",
    "            g.annotate('{:}%'.format(width), (x + width + myspacingx, y + myspacingy), fontsize = myfontsize)\n",
    "            # play with fontsize, depending on graph"
   ]
  },
  {
   "cell_type": "code",
   "execution_count": 7,
   "metadata": {},
   "outputs": [],
   "source": [
    "# Dictionary to recode values (as on survey dataset)\n",
    "  \n",
    "# Create a dictionary of question names\n",
    "questions_dict_path = 'https://raw.githubusercontent.com/lorena-gp/food-standards-agency_app/master/survey_guide_variables.csv'\n",
    "questions_dict = pd.read_csv(questions_dict_path)\n",
    "questions_dict = pd.Series(questions_dict.Label.values, index=questions_dict.Variable).to_dict()\n",
    "\n",
    "# Create a nested dictionary of answer names\n",
    "answers_dict_path = 'https://raw.githubusercontent.com/lorena-gp/food-standards-agency_app/master/survey_guide_values.csv'\n",
    "answers_dict = pd.read_csv(answers_dict_path)\n",
    "answers_dict['Label'] = (answers_dict['Label']\n",
    "                         .replace({'Wave 1':2010, 'Wave 2':2012, 'Wave 3':2014, 'Wave 4':2016, 'Wave 5':2018})\n",
    "                         .replace({'Married/Civil Partnership/Living with Partner':'Married/Partnership'})\n",
    "                         .replace({'Single/Widowed/Divorced/Separated/Other':'Single/Other'}))\n",
    "answers_dict = answers_dict.fillna(method='ffill')\n",
    "answers_dict = answers_dict.groupby('Variable')[['Vlue', 'Label']].apply(lambda g: dict(g.values)).to_dict()\n",
    "answers_dict['wimd_2014_quintile'] = {1: 1, 2: 2, # 1 is most deprived\n",
    "                                      3: 3, 4: 4, 5: 5, # 5 is least deprived\n",
    "                                      -8: \"Don't know\", -1:'Not applicable'}"
   ]
  },
  {
   "cell_type": "code",
   "execution_count": 8,
   "metadata": {},
   "outputs": [],
   "source": [
    "# Load Food and You survey dataset\n",
    "survey_path = 'https://raw.githubusercontent.com/lorena-gp/food-standards-agency_app/master/survey.csv'\n",
    "survey_full_dataset = pd.read_csv(survey_path)\n",
    "survey_full_dataset = pd.DataFrame(survey_full_dataset)\n",
    "\n",
    "# Encode 'Not applicable', 'Refused' and 'Don't know' as NaN\n",
    "survey_full_dataset = survey_full_dataset.replace([-9, -8, -1, 98], np.nan)\n",
    "cols_5_NaN = ['q4_1_4', 'q4_1_5a', 'Q4_1_5_comb', 'q4_1_6', 'q4_1_7', 'q4_1_8a', 'q4_1_8b', 'sanspray', 'q4_1_11',\n",
    "              'q4_1_12', 'q4_1_13', 'q4_1_14', 'q4_1_15', 'q4_1_16', 'q4_1_17', 'q4_1_18', 'q4_1_19']\n",
    "survey_full_dataset[cols_5_NaN] = survey_full_dataset[cols_5_NaN].replace([5], np.nan)\n",
    "\n",
    "survey_full_dataset['age_dv_grouped'] = (survey_full_dataset['age_dv']\n",
    "                                         .replace({1:'A', 2:'B', 3:'B', 4:'B', 5:'C', 6:'C', 7:'C'})\n",
    "                                         .replace({'A':'16-24', 'B':'25-54', 'C':'55+'}))"
   ]
  },
  {
   "cell_type": "code",
   "execution_count": 9,
   "metadata": {},
   "outputs": [],
   "source": [
    "# Define demographic variables of interest\n",
    "demographic_variables = ['age_dv', 'marstat2', 'religion_dv', 'RespSex', 'wimd_2014_quintile', 'workstat2',\n",
    "                         'Q6_1', 'age_dv_grouped']\n",
    "\n",
    "# Define questions of interest\n",
    "questions_of_interest = ['bpoison', 'Q4_1_5_comb', 'eatoutev', 'q4_1_6', 'Q4_1_5_comb', 'Q4_19b', 'fdsecst',\n",
    "                         'sanspray', 'Q4_26b', 'q4_1_8a', 'q4_1_11', 'dq4_1bc', 'Q4_143', 'safemeat10',\n",
    "                         'Q4_2610', 'q4_27_4_slice', 'Q4_27c', 'Q4_28b8', 'q2_14s10a_dv', 'q2_14su8b_dv',\n",
    "                         'q2_14su7a_dv', 'q2_14s13_dv', 'EatOut1', 'EatOut2', 'EatOut3']\n",
    "\n",
    "# Define high risk answers to questions of interest (in same order)\n",
    "high_risk_answers = [1,1,1,4,4,4,4,1,1,1,1,2,1,1,1,5,2,1,4,4,4,4,1,1,1]\n",
    "question_risk_aswers = pd.DataFrame(\n",
    "    {'question': questions_of_interest,\n",
    "     'high_risk_answer': high_risk_answers\n",
    "    })\n",
    "#q2_14s10a_dv, q2_14su8b_dv, q2_14su7a_dv, q2_14s13_dv: multiple high_risk answers: 1-7\n",
    "#EatOut3 problem is that the question with its answers is doubleD!!"
   ]
  },
  {
   "cell_type": "code",
   "execution_count": 10,
   "metadata": {},
   "outputs": [
    {
     "name": "stderr",
     "output_type": "stream",
     "text": [
      "/opt/anaconda3/lib/python3.7/site-packages/pandas/core/frame.py:2963: SettingWithCopyWarning: \n",
      "A value is trying to be set on a copy of a slice from a DataFrame.\n",
      "Try using .loc[row_indexer,col_indexer] = value instead\n",
      "\n",
      "See the caveats in the documentation: https://pandas.pydata.org/pandas-docs/stable/user_guide/indexing.html#returning-a-view-versus-a-copy\n",
      "  self[k1] = value[k2]\n"
     ]
    }
   ],
   "source": [
    "# To consider only the survey answers from wave 4 and 5 only:\n",
    "waves = [4,5]\n",
    "survey_subpopulation = survey_full_dataset.loc[survey_full_dataset['surveyyear'].isin(waves)]\n",
    "survey_subpopulation[demographic_variables] = survey_subpopulation[demographic_variables].replace(answers_dict)"
   ]
  },
  {
   "cell_type": "code",
   "execution_count": 11,
   "metadata": {},
   "outputs": [],
   "source": [
    "# Set up for the interactive dashboard inside notebook:\n",
    "# Plot food risks associated to desired subpopulation groups for specified relevant questions:\n",
    "\n",
    "country_dict = answers_dict['country_dv']\n",
    "country_list = list(survey_subpopulation.country_dv.unique())\n",
    "country_list[:] = [country_dict.get(e,'') for e in country_list]\n",
    "country_dict_inv = {v: k for k, v in country_dict.items()}\n",
    "\n",
    "region_dict = answers_dict['region_dv']\n",
    "region_list = list(survey_subpopulation.region_dv.unique())\n",
    "region_list[:] = [region_dict.get(e,'') for e in region_list]\n",
    "region_dict_inv = {v: k for k, v in region_dict.items()}\n",
    "\n",
    "questions_of_interest_names = questions_of_interest.copy()\n",
    "questions_of_interest_names[:] = [questions_dict.get(e,'') for e in questions_of_interest_names]\n",
    "questions_dict_inv = {v: k for k, v in questions_dict.items()}\n",
    "\n",
    "risks_options = ['No', 'Yes']\n",
    "\n",
    "demographics_list = ['Not applicable','Age (in detail)', 'Age', 'Gender', 'Marital status', 'Working status',\n",
    "                     'Religion', 'Deprivation', 'Health']\n",
    "\n",
    "demographic_dict = {'Not applicable':'dummy', 'Age (in detail)':'age_dv', 'Age':'age_dv_grouped', 'Gender':'RespSex',\n",
    "                    'Marital status':'marstat2', 'Working status':'workstat2', 'Religion':'religion_dv',\n",
    "                    'Deprivation':'wimd_2014_quintile', 'Health':'Q6_1'}"
   ]
  },
  {
   "cell_type": "markdown",
   "metadata": {},
   "source": [
    "## You can explore the results of the \"Food and you\" survey (2016, 2018), for the whole UK, below:"
   ]
  },
  {
   "cell_type": "code",
   "execution_count": 12,
   "metadata": {},
   "outputs": [
    {
     "data": {
      "application/vnd.jupyter.widget-view+json": {
       "model_id": "b26beb5e6b824a82abcc4852cdf73a57",
       "version_major": 2,
       "version_minor": 0
      },
      "text/plain": [
       "interactive(children=(Dropdown(description='question', options=('(D) Whether had food poisoning', '(D) Wash ra…"
      ]
     },
     "metadata": {},
     "output_type": "display_data"
    }
   ],
   "source": [
    "# Whole UK\n",
    "\n",
    "@interact\n",
    "def plot(question=questions_of_interest_names,\n",
    "         demographics1=demographics_list,\n",
    "         demographics2=demographics_list,\n",
    "         demographics3=demographics_list,\n",
    "        risk_only=risks_options):\n",
    "    \n",
    "    survey_subpopulation['dummy']=''\n",
    "    \n",
    "    if risk_only == 'No':\n",
    "        survey_subpopulation['combined_demographics']=(survey_subpopulation[demographic_dict.get(demographics1)]+' '+\n",
    "                                                       survey_subpopulation[demographic_dict.get(demographics2)]+' '+\n",
    "                                                       survey_subpopulation[demographic_dict.get(demographics3)])        \n",
    "        custom_barplots(survey_subpopulation,\n",
    "                        'combined_demographics',\n",
    "                        [questions_dict_inv.get(question)],\n",
    "                        myspacingy=0.03, myspacingx=15,\n",
    "                        barwidth=0.9)\n",
    "        \n",
    "    if risk_only == 'Yes':\n",
    "        survey_subpopulation['combined_demographics']=(survey_subpopulation[demographic_dict.get(demographics1)]+' '+\n",
    "                                                       survey_subpopulation[demographic_dict.get(demographics2)]+' '+\n",
    "                                                       survey_subpopulation[demographic_dict.get(demographics3)]) \n",
    "        custom_barplots(survey_subpopulation,\n",
    "                        'combined_demographics',\n",
    "                        [questions_dict_inv.get(question)],\n",
    "                        myspacingy=0.03, myspacingx=15,\n",
    "                        high_risk_option='yes', barwidth=0.9) "
   ]
  },
  {
   "cell_type": "markdown",
   "metadata": {},
   "source": [
    "## You can explore the results of the \"Food and you\" survey (2016, 2018), for each UK country, below:"
   ]
  },
  {
   "cell_type": "code",
   "execution_count": null,
   "metadata": {},
   "outputs": [],
   "source": [
    "# Per country\n",
    "\n",
    "@interact\n",
    "def plot(country=country_list,\n",
    "         question=questions_of_interest_names,\n",
    "         demographics1=demographics_list,\n",
    "         demographics2=demographics_list,\n",
    "         demographics3=demographics_list,\n",
    "        risk_only=risks_options):\n",
    "    \n",
    "    survey_subpopulation['dummy']=''\n",
    "    \n",
    "    if risk_only == 'No':\n",
    "        survey_subpopulation['combined_demographics']=(survey_subpopulation[demographic_dict.get(demographics1)]+' '+\n",
    "                                                       survey_subpopulation[demographic_dict.get(demographics2)]+' '+\n",
    "                                                       survey_subpopulation[demographic_dict.get(demographics3)])        \n",
    "        custom_barplots(survey_subpopulation[survey_subpopulation.country_dv.eq(country_dict_inv.get(country))],\n",
    "                        'combined_demographics',\n",
    "                        [questions_dict_inv.get(question)],\n",
    "                        myspacingy=0.03, myspacingx=15,\n",
    "                        barwidth=0.9)\n",
    "        \n",
    "    if risk_only == 'Yes':\n",
    "        survey_subpopulation['combined_demographics']=(survey_subpopulation[demographic_dict.get(demographics1)]+' '+\n",
    "                                                       survey_subpopulation[demographic_dict.get(demographics2)]+' '+\n",
    "                                                       survey_subpopulation[demographic_dict.get(demographics3)]) \n",
    "        custom_barplots(survey_subpopulation[survey_subpopulation.country_dv.eq(country_dict_inv.get(country))],\n",
    "                        'combined_demographics',\n",
    "                        [questions_dict_inv.get(question)],\n",
    "                        myspacingy=0.03, myspacingx=15,\n",
    "                        high_risk_option='yes', barwidth=0.9)"
   ]
  },
  {
   "cell_type": "markdown",
   "metadata": {},
   "source": [
    "## You can explore the results of the \"Food and you\" survey (2016, 2018), for each UK region, below:"
   ]
  },
  {
   "cell_type": "code",
   "execution_count": null,
   "metadata": {},
   "outputs": [],
   "source": [
    "# Per region\n",
    "\n",
    "@interact\n",
    "def plot(region=region_list,\n",
    "         question=questions_of_interest_names,\n",
    "         risk_only=risks_options,\n",
    "         demographics1=demographics_list,\n",
    "         demographics2=demographics_list,\n",
    "         demographics3=demographics_list):\n",
    "    \n",
    "    survey_subpopulation['dummy']=''\n",
    "    \n",
    "    if risk_only == 'No':\n",
    "        survey_subpopulation['combined_demographics']=(survey_subpopulation[demographic_dict.get(demographics1)]+' '+\n",
    "                                                       survey_subpopulation[demographic_dict.get(demographics2)]+' '+\n",
    "                                                       survey_subpopulation[demographic_dict.get(demographics3)])        \n",
    "        custom_barplots(survey_subpopulation[survey_subpopulation.region_dv.eq(region_dict_inv.get(region))],\n",
    "                        'combined_demographics',\n",
    "                        [questions_dict_inv.get(question)],\n",
    "                        myspacingy=0.03, myspacingx=15,\n",
    "                        barwidth=0.9)\n",
    "        \n",
    "    if risk_only == 'Yes':\n",
    "        survey_subpopulation['combined_demographics']=(survey_subpopulation[demographic_dict.get(demographics1)]+' '+\n",
    "                                                       survey_subpopulation[demographic_dict.get(demographics2)]+' '+\n",
    "                                                       survey_subpopulation[demographic_dict.get(demographics3)]) \n",
    "        custom_barplots(survey_subpopulation[survey_subpopulation.region_dv.eq(region_dict_inv.get(region))],\n",
    "                        'combined_demographics',\n",
    "                        [questions_dict_inv.get(question)],\n",
    "                        myspacingy=0.03, myspacingx=15,\n",
    "                        high_risk_option='yes', barwidth=0.9) "
   ]
  },
  {
   "cell_type": "code",
   "execution_count": null,
   "metadata": {},
   "outputs": [],
   "source": [
    "# Interactive dashboard outside notebook:\n",
    "\n",
    "# To show this as an independent (local) dashboard with Voila (https://github.com/voila-dashboards/voila):\n",
    "# Install in terminal by: conda install -c conda-forge voila\n",
    "# Start Voilà locally (cd in directory with this notebook) by running: voila Food-and-You-survey_risks.ipynb\n",
    "\n",
    "# To give access to voila dashboard remotely using github and binder:\n",
    "# Set up a public github repo with all data files needed (as csv),\n",
    "# jupyter notebook with widgets(in which all csv files are read using the raw URLs from github)\n",
    "# and a requirements.txt (listing  all the modules needed to run the notebook).\n",
    "# Use binder (https://mybinder.org) and specify the path of the jupypter notebook (using voila/render),\n",
    "# indicate it is a URL path.\n",
    "# The new URL generated can be shared and is available any time.\n",
    "\n",
    "# To give access to voila dashboard remotely using ngrok:\n",
    "# (see https://voila.readthedocs.io/en/stable/deploy.html#sharing-voila-applications-with-ngrok)\n",
    "# Install ngrok: https://ngrok.com/download, unzip file and, if using macOS, move executable file to /usr/local/bin\n",
    "# Start Voilà locally (cd in directory with this notebook) by running: voila Food-and-You-survey_risks.ipynb\n",
    "# In a new terminal window, start ngrok by running: ngrok http 8866 (check local host number actually used by\n",
    "# the dashboard of interest, as, if running voila multiple times, this number will change)\n",
    "# Copy the link from the ngrok terminal window (link looks like https://8bb6fded.ngrok.io) and use or send link.\n",
    "# Website will take some time to load, as the jupyter noteook is running in the background.\n",
    "# When using the ngrok link, the requests will be forwared to your local instance of Voilà.\n",
    "\n",
    "# Census data is too heavy and cannot be ploted as a voila dashboard"
   ]
  }
 ],
 "metadata": {
  "kernelspec": {
   "display_name": "Python 3",
   "language": "python",
   "name": "python3"
  },
  "language_info": {
   "codemirror_mode": {
    "name": "ipython",
    "version": 3
   },
   "file_extension": ".py",
   "mimetype": "text/x-python",
   "name": "python",
   "nbconvert_exporter": "python",
   "pygments_lexer": "ipython3",
   "version": "3.7.7"
  }
 },
 "nbformat": 4,
 "nbformat_minor": 4
}
